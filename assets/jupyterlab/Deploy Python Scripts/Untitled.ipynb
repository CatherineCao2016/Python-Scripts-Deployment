{
 "cells": [
  {
   "cell_type": "markdown",
   "metadata": {},
   "source": [
    "# Deploy a function using cpd_software_env utility"
   ]
  },
  {
   "cell_type": "code",
   "execution_count": 3,
   "metadata": {},
   "outputs": [
    {
     "name": "stdout",
     "output_type": "stream",
     "text": [
      "Collecting langdetect\n",
      "  Downloading langdetect-1.0.9.tar.gz (981 kB)\n",
      "\u001b[K     |████████████████████████████████| 981 kB 1.1 MB/s eta 0:00:01\n",
      "\u001b[?25hRequirement already satisfied: six in /user-home/_global_/python-3 (from langdetect) (1.12.0)\n",
      "Building wheels for collected packages: langdetect\n",
      "  Building wheel for langdetect (setup.py) ... \u001b[?25ldone\n",
      "\u001b[?25h  Created wheel for langdetect: filename=langdetect-1.0.9-py3-none-any.whl size=993222 sha256=7a73c5e184fff53bec0cc7274056c3eccf72b7d4c46d56d2d338d04e9fcbe142\n",
      "  Stored in directory: /tmp/wsuser/.cache/pip/wheels/c5/96/8a/f90c59ed25d75e50a8c10a1b1c2d4c402e4dacfa87f3aff36a\n",
      "Successfully built langdetect\n",
      "Installing collected packages: langdetect\n",
      "Successfully installed langdetect-1.0.9\n"
     ]
    }
   ],
   "source": [
    "#!pip install langdetect"
   ]
  },
  {
   "cell_type": "code",
   "execution_count": 5,
   "metadata": {},
   "outputs": [
    {
     "name": "stdout",
     "output_type": "stream",
     "text": [
      "Collecting pycountry\n",
      "  Downloading pycountry-20.7.3.tar.gz (10.1 MB)\n",
      "\u001b[K     |████████████████████████████████| 10.1 MB 982 kB/s eta 0:00:01\n",
      "\u001b[?25hBuilding wheels for collected packages: pycountry\n",
      "  Building wheel for pycountry (setup.py) ... \u001b[?25ldone\n",
      "\u001b[?25h  Created wheel for pycountry: filename=pycountry-20.7.3-py2.py3-none-any.whl size=10746863 sha256=cc4b2900445eb00d0638fe7b889237abdc90a33d698efed08f6c7a03f8f41399\n",
      "  Stored in directory: /tmp/wsuser/.cache/pip/wheels/57/e8/3f/120ccc1ff7541c108bc5d656e2a14c39da0d824653b62284c6\n",
      "Successfully built pycountry\n",
      "Installing collected packages: pycountry\n",
      "Successfully installed pycountry-20.7.3\n"
     ]
    }
   ],
   "source": [
    "!pip install pycountry"
   ]
  },
  {
   "cell_type": "code",
   "execution_count": 17,
   "metadata": {},
   "outputs": [],
   "source": [
    "def detect_country(text:str) -> str:\n",
    "    import langdetect\n",
    "    import pycountry\n",
    "    langcode = langdetect.detect(text)\n",
    "    country = pycountry.countries.get(alpha_2=langcode).name\n",
    "    return country"
   ]
  },
  {
   "cell_type": "code",
   "execution_count": 18,
   "metadata": {},
   "outputs": [
    {
     "data": {
      "text/plain": [
       "'Germany'"
      ]
     },
     "execution_count": 18,
     "metadata": {},
     "output_type": "execute_result"
    }
   ],
   "source": [
    "detect_country(\"Eins, Zwei, Drei\")"
   ]
  },
  {
   "cell_type": "code",
   "execution_count": 19,
   "metadata": {},
   "outputs": [],
   "source": [
    "class Employee:\n",
    "\n",
    "    def __init__(self, first, last, gender):\n",
    "        self.first = first\n",
    "        self.last = last\n",
    "        self.email = first + '.' + last + '@email.com'\n",
    "        self.gender = gender\n",
    "\n",
    "    def fullname(self):\n",
    "        return '{} {}'.format(self.first, self.last)"
   ]
  },
  {
   "cell_type": "code",
   "execution_count": 20,
   "metadata": {},
   "outputs": [],
   "source": [
    "emp = Employee(\"Catherine\", \"Cao\", \"F\")"
   ]
  },
  {
   "cell_type": "code",
   "execution_count": 23,
   "metadata": {},
   "outputs": [
    {
     "data": {
      "text/plain": [
       "'Catherine Cao'"
      ]
     },
     "execution_count": 23,
     "metadata": {},
     "output_type": "execute_result"
    }
   ],
   "source": [
    "emp.fullname()"
   ]
  },
  {
   "cell_type": "code",
   "execution_count": 24,
   "metadata": {},
   "outputs": [
    {
     "name": "stdout",
     "output_type": "stream",
     "text": [
      "Writing sample.yaml\n"
     ]
    }
   ],
   "source": [
    "%%writefile sample.yaml\n",
    "\n",
    "name: sample_deployment\n",
    "    \n",
    "base: default_py3.7\n",
    "\n",
    "pip:   # packages that are not included iin CP4D default environments\n",
    "    - langdetect\n",
    "    - pycountry\n",
    "    \n",
    "file:\n",
    "    - sample_function_class.py"
   ]
  },
  {
   "cell_type": "code",
   "execution_count": 26,
   "metadata": {},
   "outputs": [
    {
     "name": "stdout",
     "output_type": "stream",
     "text": [
      "b'/home/wsuser/work/project_git_repo/Python-Scripts-Deployment/assets/jupyterlab/Deploy Python Scripts'\n"
     ]
    }
   ],
   "source": [
    "import os\n",
    "print(os.getcwdb())"
   ]
  },
  {
   "cell_type": "code",
   "execution_count": 27,
   "metadata": {},
   "outputs": [],
   "source": [
    "import sys\n",
    "sys.path.insert(0,\"/home/wsuser/work/project_git_repo/Python-Scripts-Deployment/assets/jupyterlab/lib\")"
   ]
  },
  {
   "cell_type": "code",
   "execution_count": 28,
   "metadata": {},
   "outputs": [],
   "source": [
    "import cpd_software_env"
   ]
  },
  {
   "cell_type": "code",
   "execution_count": 29,
   "metadata": {},
   "outputs": [],
   "source": [
    "cpd_software_env.setup(\"sample.yaml\")"
   ]
  },
  {
   "cell_type": "code",
   "execution_count": 30,
   "metadata": {},
   "outputs": [
    {
     "data": {
      "text/plain": [
       "'Germany'"
      ]
     },
     "execution_count": 30,
     "metadata": {},
     "output_type": "execute_result"
    }
   ],
   "source": [
    "from sample_function_class import detect_country\n",
    "detect_country(\"Eins, Zwei, Drei\")"
   ]
  },
  {
   "cell_type": "code",
   "execution_count": 31,
   "metadata": {},
   "outputs": [
    {
     "name": "stdout",
     "output_type": "stream",
     "text": [
      "Replace gencode_scoring_deploy by gencode_deployable_function\n"
     ]
    },
    {
     "data": {
      "text/plain": [
       "'detect_country_deploy.py'"
      ]
     },
     "execution_count": 31,
     "metadata": {},
     "output_type": "execute_result"
    }
   ],
   "source": [
    "from sample_function_class import detect_country\n",
    "cpd_software_env.gencode_scoring_deploy(detect_country,to_file=\"detect_country_deploy.py\")"
   ]
  },
  {
   "cell_type": "code",
   "execution_count": 33,
   "metadata": {},
   "outputs": [
    {
     "name": "stdout",
     "output_type": "stream",
     "text": [
      "Collecting piprepo\n",
      "  Downloading piprepo-0.1.3-py2.py3-none-any.whl (6.8 kB)\n",
      "Requirement already satisfied: boto3 in /opt/conda/envs/Python-3.7-main/lib/python3.7/site-packages (from piprepo) (1.13.11)\n",
      "Requirement already satisfied: pip>=8 in /opt/conda/envs/Python-3.7-main/lib/python3.7/site-packages (from piprepo) (20.1.1)\n",
      "Requirement already satisfied: s3transfer<0.4.0,>=0.3.0 in /opt/conda/envs/Python-3.7-main/lib/python3.7/site-packages (from boto3->piprepo) (0.3.3)\n",
      "Requirement already satisfied: jmespath<1.0.0,>=0.7.1 in /opt/conda/envs/Python-3.7-main/lib/python3.7/site-packages (from boto3->piprepo) (0.9.4)\n",
      "Requirement already satisfied: botocore<1.17.0,>=1.16.11 in /opt/conda/envs/Python-3.7-main/lib/python3.7/site-packages (from boto3->piprepo) (1.16.11)\n",
      "Requirement already satisfied: python-dateutil<3.0.0,>=2.1 in /opt/conda/envs/Python-3.7-main/lib/python3.7/site-packages (from botocore<1.17.0,>=1.16.11->boto3->piprepo) (2.8.1)\n",
      "Requirement already satisfied: docutils<0.16,>=0.10 in /opt/conda/envs/Python-3.7-main/lib/python3.7/site-packages (from botocore<1.17.0,>=1.16.11->boto3->piprepo) (0.15.2)\n",
      "Requirement already satisfied: urllib3<1.26,>=1.20 in /user-home/_global_/python-3 (from botocore<1.17.0,>=1.16.11->boto3->piprepo) (1.24.1)\n",
      "Requirement already satisfied: six>=1.5 in /user-home/_global_/python-3 (from python-dateutil<3.0.0,>=2.1->botocore<1.17.0,>=1.16.11->boto3->piprepo) (1.12.0)\n",
      "Installing collected packages: piprepo\n",
      "Successfully installed piprepo-0.1.3\n"
     ]
    }
   ],
   "source": [
    "!pip install piprepo"
   ]
  },
  {
   "cell_type": "code",
   "execution_count": 34,
   "metadata": {},
   "outputs": [
    {
     "name": "stdout",
     "output_type": "stream",
     "text": [
      "WML service in CP4D 3.5\n",
      "WML client lib 1.0.34 in Python 3.7\n",
      "autoinstall:_create_autoinstall_sdist_manifest(...,/tmp/MyDistPkg, copy={'pip', 'files'})\n"
     ]
    },
    {
     "ename": "AssertionError",
     "evalue": "",
     "output_type": "error",
     "traceback": [
      "\u001b[0;31m---------------------------------------------------------------------------\u001b[0m",
      "\u001b[0;31mAssertionError\u001b[0m                            Traceback (most recent call last)",
      "\u001b[0;32m<ipython-input-34-0fab43415fae>\u001b[0m in \u001b[0;36m<module>\u001b[0;34m\u001b[0m\n\u001b[0;32m----> 1\u001b[0;31m \u001b[0mcpd_software_env\u001b[0m\u001b[0;34m.\u001b[0m\u001b[0mbuild\u001b[0m\u001b[0;34m(\u001b[0m\u001b[0mcopy\u001b[0m\u001b[0;34m=\u001b[0m\u001b[0;34m{\u001b[0m\u001b[0;34m\"files\"\u001b[0m\u001b[0;34m,\u001b[0m\u001b[0;34m\"pip\"\u001b[0m\u001b[0;34m}\u001b[0m\u001b[0;34m)\u001b[0m\u001b[0;34m\u001b[0m\u001b[0;34m\u001b[0m\u001b[0m\n\u001b[0m",
      "\u001b[0;32m~/work/project_git_repo/Python-Scripts-Deployment/assets/jupyterlab/lib/cpd_software_env.py\u001b[0m in \u001b[0;36mbuild\u001b[0;34m(copy, add)\u001b[0m\n\u001b[1;32m    741\u001b[0m     \u001b[0;34m*\u001b[0m \u001b[0mcopy\u001b[0m \u001b[0;32mand\u001b[0m \u001b[0madd\u001b[0m \u001b[0;34m:\u001b[0m \u001b[0msubset\u001b[0m \u001b[0mof\u001b[0m \u001b[0;34m{\u001b[0m\u001b[0;34m\"files\"\u001b[0m\u001b[0;34m,\u001b[0m \u001b[0;34m\"assets\"\u001b[0m\u001b[0;34m,\u001b[0m\u001b[0;34m\"packages\"\u001b[0m\u001b[0;34m}\u001b[0m\u001b[0;34m\u001b[0m\u001b[0;34m\u001b[0m\u001b[0m\n\u001b[1;32m    742\u001b[0m     \"\"\"\n\u001b[0;32m--> 743\u001b[0;31m     \u001b[0m_build_swspec_environment\u001b[0m\u001b[0;34m(\u001b[0m\u001b[0mcopy\u001b[0m\u001b[0;34m=\u001b[0m\u001b[0mcopy\u001b[0m\u001b[0;34m,\u001b[0m \u001b[0madd\u001b[0m\u001b[0;34m=\u001b[0m\u001b[0madd\u001b[0m\u001b[0;34m)\u001b[0m\u001b[0;34m\u001b[0m\u001b[0;34m\u001b[0m\u001b[0m\n\u001b[0m\u001b[1;32m    744\u001b[0m     \u001b[0;31m# don't return id as user does not need it\u001b[0m\u001b[0;34m\u001b[0m\u001b[0;34m\u001b[0m\u001b[0;34m\u001b[0m\u001b[0m\n\u001b[1;32m    745\u001b[0m \u001b[0;34m\u001b[0m\u001b[0m\n",
      "\u001b[0;32m~/work/project_git_repo/Python-Scripts-Deployment/assets/jupyterlab/lib/cpd_software_env.py\u001b[0m in \u001b[0;36m_build_swspec_environment\u001b[0;34m(copy, add)\u001b[0m\n\u001b[1;32m    769\u001b[0m \u001b[0;34m\u001b[0m\u001b[0m\n\u001b[1;32m    770\u001b[0m     \u001b[0;32mif\u001b[0m \u001b[0;32mnot\u001b[0m \u001b[0mCurrentSwspecId\u001b[0m\u001b[0;34m:\u001b[0m\u001b[0;34m\u001b[0m\u001b[0;34m\u001b[0m\u001b[0m\n\u001b[0;32m--> 771\u001b[0;31m         \u001b[0m_build_and_cache_swspec\u001b[0m\u001b[0;34m(\u001b[0m\u001b[0mwml_client\u001b[0m\u001b[0;34m,\u001b[0m \u001b[0mcopy\u001b[0m\u001b[0;34m=\u001b[0m\u001b[0mcopy\u001b[0m\u001b[0;34m)\u001b[0m\u001b[0;34m\u001b[0m\u001b[0;34m\u001b[0m\u001b[0m\n\u001b[0m\u001b[1;32m    772\u001b[0m         \u001b[0;31m# sets CurrentSwspecName and CurrentSwspecId\u001b[0m\u001b[0;34m\u001b[0m\u001b[0;34m\u001b[0m\u001b[0;34m\u001b[0m\u001b[0m\n\u001b[1;32m    773\u001b[0m     \u001b[0;32massert\u001b[0m \u001b[0mCurrentSwspecName\u001b[0m \u001b[0;32mand\u001b[0m \u001b[0mCurrentSwspecId\u001b[0m\u001b[0;34m\u001b[0m\u001b[0;34m\u001b[0m\u001b[0m\n",
      "\u001b[0;32m~/work/project_git_repo/Python-Scripts-Deployment/assets/jupyterlab/lib/cpd_software_env.py\u001b[0m in \u001b[0;36m_build_and_cache_swspec\u001b[0;34m(wml_client, custom_sw_spec_name, copy)\u001b[0m\n\u001b[1;32m   1857\u001b[0m \u001b[0;34m\u001b[0m\u001b[0m\n\u001b[1;32m   1858\u001b[0m     (swspec_name, swspec_id) = _build_swspec_wml(\n\u001b[0;32m-> 1859\u001b[0;31m         \u001b[0mwml_client\u001b[0m\u001b[0;34m,\u001b[0m \u001b[0mcustom_sw_spec_name\u001b[0m\u001b[0;34m,\u001b[0m \u001b[0mcopy\u001b[0m\u001b[0;34m=\u001b[0m\u001b[0mcopy\u001b[0m\u001b[0;34m\u001b[0m\u001b[0;34m\u001b[0m\u001b[0m\n\u001b[0m\u001b[1;32m   1860\u001b[0m     )\n\u001b[1;32m   1861\u001b[0m \u001b[0;34m\u001b[0m\u001b[0m\n",
      "\u001b[0;32m~/work/project_git_repo/Python-Scripts-Deployment/assets/jupyterlab/lib/cpd_software_env.py\u001b[0m in \u001b[0;36m_build_swspec_wml\u001b[0;34m(wml_client, custom_sw_spec_name, copy)\u001b[0m\n\u001b[1;32m   1930\u001b[0m         \u001b[0;34m[\u001b[0m\u001b[0mautoinstall_sdist_file\u001b[0m\u001b[0;34m]\u001b[0m \u001b[0;34m+\u001b[0m \u001b[0mmodules_sdist_files\u001b[0m\u001b[0;34m,\u001b[0m\u001b[0;34m\u001b[0m\u001b[0;34m\u001b[0m\u001b[0m\n\u001b[1;32m   1931\u001b[0m         \u001b[0mcustom_name\u001b[0m\u001b[0;34m=\u001b[0m\u001b[0mswspec_name\u001b[0m\u001b[0;34m,\u001b[0m\u001b[0;34m\u001b[0m\u001b[0;34m\u001b[0m\u001b[0m\n\u001b[0;32m-> 1932\u001b[0;31m         \u001b[0mversion\u001b[0m\u001b[0;34m=\u001b[0m\u001b[0;34m\"replace\"\u001b[0m\u001b[0;34m,\u001b[0m  \u001b[0;31m# todo: implement \"patch\" option\u001b[0m\u001b[0;34m\u001b[0m\u001b[0;34m\u001b[0m\u001b[0m\n\u001b[0m\u001b[1;32m   1933\u001b[0m     )\n\u001b[1;32m   1934\u001b[0m     \u001b[0;32mreturn\u001b[0m \u001b[0;34m(\u001b[0m\u001b[0mswspec_name\u001b[0m\u001b[0;34m,\u001b[0m \u001b[0mswspec_id\u001b[0m\u001b[0;34m)\u001b[0m\u001b[0;34m\u001b[0m\u001b[0;34m\u001b[0m\u001b[0m\n",
      "\u001b[0;32m~/work/project_git_repo/Python-Scripts-Deployment/assets/jupyterlab/lib/cpd_software_env.py\u001b[0m in \u001b[0;36m_create_software_specification\u001b[0;34m(wml_client, base_spec_name, custom_files, custom_name, version)\u001b[0m\n\u001b[1;32m   2363\u001b[0m     \u001b[0mbase_id\u001b[0m \u001b[0;34m=\u001b[0m \u001b[0mwml_client\u001b[0m\u001b[0;34m.\u001b[0m\u001b[0msoftware_specifications\u001b[0m\u001b[0;34m.\u001b[0m\u001b[0mget_uid_by_name\u001b[0m\u001b[0;34m(\u001b[0m\u001b[0mbase_spec_name\u001b[0m\u001b[0;34m)\u001b[0m\u001b[0;34m\u001b[0m\u001b[0;34m\u001b[0m\u001b[0m\n\u001b[1;32m   2364\u001b[0m     \u001b[0;32massert\u001b[0m \u001b[0mbase_id\u001b[0m \u001b[0;32mis\u001b[0m \u001b[0;32mnot\u001b[0m \u001b[0;32mNone\u001b[0m\u001b[0;34m\u001b[0m\u001b[0;34m\u001b[0m\u001b[0m\n\u001b[0;32m-> 2365\u001b[0;31m     \u001b[0;32massert\u001b[0m \u001b[0mbase_id\u001b[0m \u001b[0;34m!=\u001b[0m \u001b[0;34m\"Not Found\"\u001b[0m\u001b[0;34m\u001b[0m\u001b[0;34m\u001b[0m\u001b[0m\n\u001b[0m\u001b[1;32m   2366\u001b[0m     \u001b[0;32massert\u001b[0m \u001b[0misinstance\u001b[0m\u001b[0;34m(\u001b[0m\u001b[0mcustom_files\u001b[0m\u001b[0;34m,\u001b[0m \u001b[0mlist\u001b[0m\u001b[0;34m)\u001b[0m\u001b[0;34m\u001b[0m\u001b[0;34m\u001b[0m\u001b[0m\n\u001b[1;32m   2367\u001b[0m \u001b[0;34m\u001b[0m\u001b[0m\n",
      "\u001b[0;31mAssertionError\u001b[0m: "
     ]
    }
   ],
   "source": [
    "cpd_software_env.build(copy={\"files\",\"pip\"})"
   ]
  },
  {
   "cell_type": "code",
   "execution_count": null,
   "metadata": {},
   "outputs": [],
   "source": []
  }
 ],
 "metadata": {
  "kernelspec": {
   "display_name": "Python 3.7",
   "language": "python",
   "name": "python3"
  },
  "language_info": {
   "codemirror_mode": {
    "name": "ipython",
    "version": 3
   },
   "file_extension": ".py",
   "mimetype": "text/x-python",
   "name": "python",
   "nbconvert_exporter": "python",
   "pygments_lexer": "ipython3",
   "version": "3.7.9"
  }
 },
 "nbformat": 4,
 "nbformat_minor": 4
}
