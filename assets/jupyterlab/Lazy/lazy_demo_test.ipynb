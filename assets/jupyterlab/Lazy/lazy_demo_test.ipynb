{
 "cells": [
  {
   "cell_type": "code",
   "execution_count": 1,
   "metadata": {},
   "outputs": [],
   "source": [
    "import sys\n",
    "sys.path.insert(0,\"/home/wsuser/work/project_git_repo/Python-Scripts-Deployment/assets/jupyterlab/custom_lib/custom_lib\")"
   ]
  },
  {
   "cell_type": "code",
   "execution_count": 2,
   "metadata": {},
   "outputs": [
    {
     "name": "stdout",
     "output_type": "stream",
     "text": [
      "Overwriting lazy_env.yaml\n"
     ]
    }
   ],
   "source": [
    "%%writefile lazy_env.yaml\n",
    "\n",
    "name: lazy_env\n",
    "    \n",
    "base: default_py3.7\n",
    "    \n",
    "files:\n",
    "    - ./      # use all files in my directory including subdirectories\n",
    "    "
   ]
  },
  {
   "cell_type": "code",
   "execution_count": 3,
   "metadata": {},
   "outputs": [
    {
     "name": "stdout",
     "output_type": "stream",
     "text": [
      "Overwriting compute_averages.py\n"
     ]
    }
   ],
   "source": [
    "%%writefile compute_averages.py\n",
    "\n",
    "\n",
    "# provides function my_averages that takes a dataframe containing numbers as input\n",
    "# and returns the average for each row\n",
    "\n",
    "import pandas as pd\n",
    "\n",
    "def my_averages_a_b( indata : pd.DataFrame) -> pd.DataFrame :\n",
    "    \"\"\"to make it simple: indata must have columns \"a\" and \"b\"\n",
    "    \"\"\"\n",
    "    result = indata.copy()\n",
    "    result[\"average\"] = (indata[\"a\"] + indata[\"b\"]) / 2.0\n",
    "    return result\n",
    "\n",
    "# test in Terminal: python compute_averages.py\n",
    "#\n",
    "if __name__ == \"__main__\" :\n",
    "    mydata = pd.DataFrame([[1,1],[2,4]],columns=[\"a\",\"b\"])\n",
    "    print(mydata)\n",
    "    print(my_averages_a_b(mydata))"
   ]
  },
  {
   "cell_type": "code",
   "execution_count": 4,
   "metadata": {},
   "outputs": [],
   "source": [
    "import cpd_software_env"
   ]
  },
  {
   "cell_type": "code",
   "execution_count": 5,
   "metadata": {},
   "outputs": [],
   "source": [
    "cpd_software_env.setup(\"lazy_env.yaml\")"
   ]
  },
  {
   "cell_type": "code",
   "execution_count": 6,
   "metadata": {},
   "outputs": [
    {
     "name": "stdout",
     "output_type": "stream",
     "text": [
      "Replace gencode_scoring_deploy by gencode_deployable_function\n"
     ]
    },
    {
     "data": {
      "text/plain": [
       "'my_averages_deploy.py'"
      ]
     },
     "execution_count": 6,
     "metadata": {},
     "output_type": "execute_result"
    }
   ],
   "source": [
    "from compute_averages import my_averages_a_b\n",
    "cpd_software_env.gencode_scoring_deploy(my_averages_a_b,to_file=\"my_averages_deploy.py\")"
   ]
  },
  {
   "cell_type": "code",
   "execution_count": 7,
   "metadata": {},
   "outputs": [
    {
     "name": "stdout",
     "output_type": "stream",
     "text": [
      "WML service in CP4D 3.5\n",
      "WML client lib 1.0.34 in Python 3.7\n",
      "autoinstall:_create_autoinstall_sdist_manifest(...,/tmp/MyDistPkg, copy={'files'})\n",
      "swspec 'lazy_env Aug10 14:46' = default_py3.7 + cpd_software_env-0.1.zip\n",
      "Creating package extensions\n",
      "SUCCESS\n",
      "SUCCESS\n",
      "Creating Environment ‘lazy_env'\n"
     ]
    }
   ],
   "source": [
    "cpd_software_env.build()"
   ]
  },
  {
   "cell_type": "code",
   "execution_count": 8,
   "metadata": {},
   "outputs": [
    {
     "name": "stdout",
     "output_type": "stream",
     "text": [
      "WML service in CP4D 3.5\n",
      "WML client lib 1.0.34 in Python 3.7\n",
      "Creating Script asset...\n",
      "SUCCESS\n",
      "created script  my_averages_deploy.py 78d79409-346e-42ca-8aee-a55c5af0d4c9\n",
      "Script 'my_averages_deploy.py' saved to project\n"
     ]
    },
    {
     "data": {
      "text/plain": [
       "{'metadata': {'project_id': '798241c2-abc2-41dd-9eb3-f7d4982eb28c',\n",
       "  'guid': '78d79409-346e-42ca-8aee-a55c5af0d4c9',\n",
       "  'href': '/v2/assets/78d79409-346e-42ca-8aee-a55c5af0d4c9?project_id=798241c2-abc2-41dd-9eb3-f7d4982eb28c',\n",
       "  'name': 'my_averages_deploy.py',\n",
       "  'asset_type': 'script',\n",
       "  'created_at': '2021-08-10T14:49:28Z',\n",
       "  'last_updated_at': '2021-08-10T14:49:28Z',\n",
       "  'description': ''},\n",
       " 'entity': {'script': {'language': {'name': 'python3'},\n",
       "   'software_spec': {'id': '127ec937-d502-4fd4-b664-76f3e6c82075'}}}}"
      ]
     },
     "execution_count": 8,
     "metadata": {},
     "output_type": "execute_result"
    }
   ],
   "source": [
    "cpd_software_env.save_script_to_project(\"my_averages_deploy.py\")"
   ]
  },
  {
   "cell_type": "code",
   "execution_count": 14,
   "metadata": {},
   "outputs": [
    {
     "data": {
      "text/plain": [
       "'myavg_proxy.py'"
      ]
     },
     "execution_count": 14,
     "metadata": {},
     "output_type": "execute_result"
    }
   ],
   "source": [
    "from compute_averages import my_averages_a_b\n",
    "cpd_software_env.gencode_scoring_proxy(my_averages_a_b,to_file=\"myavg_proxy.py\" )"
   ]
  },
  {
   "cell_type": "code",
   "execution_count": 16,
   "metadata": {},
   "outputs": [
    {
     "ename": "ValueError",
     "evalue": "('Mismatch between type of input data and deployed asset', 'Proxy code was generated for a deployed function. But the actual deployment runs a script. Re-generate the code using gencode_scoring_proxy(..,use_data_refs=True)')",
     "output_type": "error",
     "traceback": [
      "\u001b[0;31m---------------------------------------------------------------------------\u001b[0m",
      "\u001b[0;31mValueError\u001b[0m                                Traceback (most recent call last)",
      "\u001b[0;32m<ipython-input-16-20ed0c15fc95>\u001b[0m in \u001b[0;36m<module>\u001b[0;34m\u001b[0m\n\u001b[1;32m      8\u001b[0m                     \u001b[0mcpd_url\u001b[0m\u001b[0;34m=\u001b[0m\u001b[0mos\u001b[0m\u001b[0;34m.\u001b[0m\u001b[0menviron\u001b[0m\u001b[0;34m[\u001b[0m\u001b[0;34m\"RUNTIME_ENV_APSX_URL\"\u001b[0m\u001b[0;34m]\u001b[0m\u001b[0;34m,\u001b[0m\u001b[0;34m\u001b[0m\u001b[0;34m\u001b[0m\u001b[0m\n\u001b[1;32m      9\u001b[0m                     \u001b[0mspace_name\u001b[0m\u001b[0;34m=\u001b[0m\u001b[0;34m\"Python Deployment\"\u001b[0m\u001b[0;34m,\u001b[0m\u001b[0;34m\u001b[0m\u001b[0;34m\u001b[0m\u001b[0m\n\u001b[0;32m---> 10\u001b[0;31m                     deployment_name=\"my_average_deployment\")\n\u001b[0m\u001b[1;32m     11\u001b[0m \u001b[0mmy_averages_a_b_proxy\u001b[0m\u001b[0;34m(\u001b[0m\u001b[0mmydata\u001b[0m\u001b[0;34m)\u001b[0m\u001b[0;34m\u001b[0m\u001b[0;34m\u001b[0m\u001b[0m\n",
      "\u001b[0;32m~/work/project_git_repo/Python-Scripts-Deployment/assets/jupyterlab/Lazy/myavg_proxy.py\u001b[0m in \u001b[0;36mgen_my_averages_a_b_proxy\u001b[0;34m(cpd_url, space_name, space_id, deployment_name, token, vault, logdir)\u001b[0m\n\u001b[1;32m     44\u001b[0m         \u001b[0;32mif\u001b[0m \u001b[0;32mnot\u001b[0m \u001b[0;32mFalse\u001b[0m\u001b[0;34m:\u001b[0m\u001b[0;34m\u001b[0m\u001b[0;34m\u001b[0m\u001b[0m\n\u001b[1;32m     45\u001b[0m             \u001b[0mmsg\u001b[0m \u001b[0;34m=\u001b[0m \u001b[0;34m\"Proxy code was generated for a deployed function. But the actual deployment runs a script. Re-generate the code using gencode_scoring_proxy(..,use_data_refs=True)\"\u001b[0m\u001b[0;34m\u001b[0m\u001b[0;34m\u001b[0m\u001b[0m\n\u001b[0;32m---> 46\u001b[0;31m             \u001b[0;32mraise\u001b[0m \u001b[0mValueError\u001b[0m\u001b[0;34m(\u001b[0m\u001b[0;34m\"Mismatch between type of input data and deployed asset\"\u001b[0m\u001b[0;34m,\u001b[0m\u001b[0mmsg\u001b[0m\u001b[0;34m)\u001b[0m\u001b[0;34m\u001b[0m\u001b[0;34m\u001b[0m\u001b[0m\n\u001b[0m\u001b[1;32m     47\u001b[0m     \u001b[0;32mif\u001b[0m \u001b[0mdeployment\u001b[0m\u001b[0;34m[\u001b[0m\u001b[0;34m\"entity\"\u001b[0m\u001b[0;34m]\u001b[0m\u001b[0;34m.\u001b[0m\u001b[0mget\u001b[0m\u001b[0;34m(\u001b[0m\u001b[0;34m'deployed_asset_type'\u001b[0m\u001b[0;34m)\u001b[0m \u001b[0;34m==\u001b[0m \u001b[0;34m'function'\u001b[0m\u001b[0;34m:\u001b[0m\u001b[0;34m\u001b[0m\u001b[0;34m\u001b[0m\u001b[0m\n\u001b[1;32m     48\u001b[0m         \u001b[0;32mif\u001b[0m  \u001b[0;32mFalse\u001b[0m\u001b[0;34m:\u001b[0m\u001b[0;34m\u001b[0m\u001b[0;34m\u001b[0m\u001b[0m\n",
      "\u001b[0;31mValueError\u001b[0m: ('Mismatch between type of input data and deployed asset', 'Proxy code was generated for a deployed function. But the actual deployment runs a script. Re-generate the code using gencode_scoring_proxy(..,use_data_refs=True)')"
     ]
    }
   ],
   "source": [
    "import os\n",
    "import pandas as pd\n",
    "mydata = pd.DataFrame([[1,1],[2,4]],columns=[\"a\",\"b\"])\n",
    "\n",
    "from myavg_proxy import gen_my_averages_a_b_proxy\n",
    "\n",
    "my_averages_a_b_proxy = gen_my_averages_a_b_proxy(\n",
    "                    cpd_url=os.environ[\"RUNTIME_ENV_APSX_URL\"],\n",
    "                    space_name=\"Python Deployment\",\n",
    "                    deployment_name=\"my_average_deployment\")\n",
    "my_averages_a_b_proxy(mydata)"
   ]
  },
  {
   "cell_type": "code",
   "execution_count": null,
   "metadata": {},
   "outputs": [],
   "source": []
  }
 ],
 "metadata": {
  "kernelspec": {
   "display_name": "Python 3.7",
   "language": "python",
   "name": "python3"
  },
  "language_info": {
   "codemirror_mode": {
    "name": "ipython",
    "version": 3
   },
   "file_extension": ".py",
   "mimetype": "text/x-python",
   "name": "python",
   "nbconvert_exporter": "python",
   "pygments_lexer": "ipython3",
   "version": "3.7.9"
  }
 },
 "nbformat": 4,
 "nbformat_minor": 4
}
