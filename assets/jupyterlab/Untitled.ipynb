{
 "cells": [
  {
   "cell_type": "code",
   "execution_count": 6,
   "metadata": {},
   "outputs": [
    {
     "name": "stdout",
     "output_type": "stream",
     "text": [
      "Catherine Cao\n"
     ]
    }
   ],
   "source": [
    "from lib.sample_class import Employee\n",
    "\n",
    "emp_1 = Employee('Catherine', 'Cao', 'F')\n",
    "\n",
    "print(emp_1.fullname())\n"
   ]
  },
  {
   "cell_type": "code",
   "execution_count": 17,
   "metadata": {},
   "outputs": [
    {
     "name": "stdout",
     "output_type": "stream",
     "text": [
      "b'/home/wsuser/work/project_git_repo/Python-Scripts-Deployment/assets/jupyterlab'\n"
     ]
    }
   ],
   "source": [
    "import os\n",
    "print(os.getcwdb())"
   ]
  },
  {
   "cell_type": "code",
   "execution_count": 8,
   "metadata": {},
   "outputs": [
    {
     "name": "stdout",
     "output_type": "stream",
     "text": [
      "Current Time = 15:01:03\n"
     ]
    }
   ],
   "source": [
    "from datetime import datetime\n",
    "\n",
    "now = datetime.now()\n",
    "\n",
    "current_time = now.strftime(\"%H:%M:%S\")\n",
    "print(\"Current Time =\", current_time)"
   ]
  },
  {
   "cell_type": "code",
   "execution_count": 12,
   "metadata": {},
   "outputs": [
    {
     "data": {
      "text/plain": [
       "'15_01_03.csv'"
      ]
     },
     "execution_count": 12,
     "metadata": {},
     "output_type": "execute_result"
    }
   ],
   "source": [
    "current_time.replace(\":\", \"_\") + \".csv\""
   ]
  },
  {
   "cell_type": "code",
   "execution_count": 13,
   "metadata": {},
   "outputs": [],
   "source": [
    "import sys"
   ]
  },
  {
   "cell_type": "code",
   "execution_count": 14,
   "metadata": {},
   "outputs": [],
   "source": [
    "import sys\n",
    "if len(sys.argv) > 0:\n",
    "    file_name = sys.argv[0]\n",
    "else:\n",
    "    print(\"no argv\")"
   ]
  },
  {
   "cell_type": "code",
   "execution_count": 33,
   "metadata": {},
   "outputs": [
    {
     "data": {
      "text/plain": [
       "['/opt/conda/envs/Python-3.7-main/lib/python3.7/site-packages/ipykernel/__main__.py',\n",
       " '-f',\n",
       " '/tmp/wsuser/jupyter-data-g0cSkomi/runtime/kernel-5f9f4a44-b27b-453f-a9c4-d4f3eaa9a641.json']"
      ]
     },
     "execution_count": 33,
     "metadata": {},
     "output_type": "execute_result"
    }
   ],
   "source": [
    "sys.argv"
   ]
  },
  {
   "cell_type": "code",
   "execution_count": 42,
   "metadata": {},
   "outputs": [
    {
     "name": "stdout",
     "output_type": "stream",
     "text": [
      "Error: Software Env is already initialized.\n"
     ]
    }
   ],
   "source": [
    "import sys\n",
    "from lib import cpd_software_env\n",
    "\n",
    "cpd_software_env.setup(\"my_batch_v0.yaml\")\n"
   ]
  },
  {
   "cell_type": "code",
   "execution_count": 43,
   "metadata": {},
   "outputs": [],
   "source": [
    "import my_batch_main"
   ]
  },
  {
   "cell_type": "code",
   "execution_count": 44,
   "metadata": {},
   "outputs": [
    {
     "name": "stdout",
     "output_type": "stream",
     "text": [
      "20:23:52 my_batch_main started\n",
      "[]\n",
      "20:23:52 my_batch_main done\n"
     ]
    }
   ],
   "source": [
    "my_batch_main.my_batch_main([])"
   ]
  },
  {
   "cell_type": "code",
   "execution_count": 45,
   "metadata": {},
   "outputs": [
    {
     "name": "stdout",
     "output_type": "stream",
     "text": [
      "Replace def gencode_scoring_deploy_batch by gencode_deployable_script!\n"
     ]
    },
    {
     "data": {
      "text/plain": [
       "'wml_batch_main.py'"
      ]
     },
     "execution_count": 45,
     "metadata": {},
     "output_type": "execute_result"
    }
   ],
   "source": [
    "cpd_software_env.gencode_scoring_deploy_batch(my_batch_main.my_batch_main,\"wml_batch_main.py\")"
   ]
  },
  {
   "cell_type": "code",
   "execution_count": 46,
   "metadata": {},
   "outputs": [
    {
     "name": "stdout",
     "output_type": "stream",
     "text": [
      "Help on function save_script_to_project in module lib.cpd_software_env:\n",
      "\n",
      "save_script_to_project(script_path, name=None, sw_spec_name='__swenv__')\n",
      "    Store the Python script as an asset in the current project.\n",
      "    Use the current software env as software specification for the script.\n",
      "    Override by setting sw_spec_name=None. This avoids triggering a build().\n",
      "\n"
     ]
    }
   ],
   "source": [
    "help(cpd_software_env.save_script_to_project)"
   ]
  },
  {
   "cell_type": "code",
   "execution_count": 41,
   "metadata": {},
   "outputs": [
    {
     "name": "stdout",
     "output_type": "stream",
     "text": [
      "helloworld.py\t  my_batch_v0.yaml  untitled2.py    utility_test.py\n",
      "lib\t\t  __pycache__\t    Untitled.ipynb  wml_batch_main.py\n",
      "my_batch_main.py  untitled1.py\t    untitled.py\n"
     ]
    }
   ],
   "source": [
    "!ls"
   ]
  },
  {
   "cell_type": "code",
   "execution_count": 50,
   "metadata": {},
   "outputs": [
    {
     "name": "stdout",
     "output_type": "stream",
     "text": [
      "WML service in CP4D 3.5\n",
      "WML client lib 1.0.34 in Python 3.7\n",
      "autoinstall:_create_autoinstall_sdist_manifest(...,/tmp/MyDistPkg, copy={'files'})\n"
     ]
    },
    {
     "ename": "AssertionError",
     "evalue": "",
     "output_type": "error",
     "traceback": [
      "\u001b[0;31m---------------------------------------------------------------------------\u001b[0m",
      "\u001b[0;31mAssertionError\u001b[0m                            Traceback (most recent call last)",
      "\u001b[0;32m<ipython-input-50-3d57dde1c482>\u001b[0m in \u001b[0;36m<module>\u001b[0;34m\u001b[0m\n\u001b[0;32m----> 1\u001b[0;31m \u001b[0mscript_asset\u001b[0m \u001b[0;34m=\u001b[0m \u001b[0mcpd_software_env\u001b[0m\u001b[0;34m.\u001b[0m\u001b[0msave_script_to_project\u001b[0m\u001b[0;34m(\u001b[0m\u001b[0;34m\"wml_batch_main.py\"\u001b[0m\u001b[0;34m,\u001b[0m \u001b[0mname\u001b[0m\u001b[0;34m=\u001b[0m\u001b[0;34m\"test_batch_file\"\u001b[0m\u001b[0;34m)\u001b[0m\u001b[0;34m\u001b[0m\u001b[0;34m\u001b[0m\u001b[0m\n\u001b[0m",
      "\u001b[0;32m~/work/project_git_repo/Python-Scripts-Deployment/assets/jupyterlab/lib/cpd_software_env.py\u001b[0m in \u001b[0;36msave_script_to_project\u001b[0;34m(script_path, name, sw_spec_name)\u001b[0m\n\u001b[1;32m   1754\u001b[0m     \u001b[0;32mif\u001b[0m \u001b[0msw_spec_name\u001b[0m \u001b[0;34m==\u001b[0m \u001b[0;34m\"__swenv__\"\u001b[0m\u001b[0;34m:\u001b[0m\u001b[0;34m\u001b[0m\u001b[0;34m\u001b[0m\u001b[0m\n\u001b[1;32m   1755\u001b[0m         \u001b[0;32mif\u001b[0m \u001b[0;32mnot\u001b[0m \u001b[0mCurrentSwspecId\u001b[0m\u001b[0;34m:\u001b[0m\u001b[0;34m\u001b[0m\u001b[0;34m\u001b[0m\u001b[0m\n\u001b[0;32m-> 1756\u001b[0;31m             \u001b[0m_build_and_cache_swspec\u001b[0m\u001b[0;34m(\u001b[0m\u001b[0mwml_client\u001b[0m\u001b[0;34m)\u001b[0m\u001b[0;34m\u001b[0m\u001b[0;34m\u001b[0m\u001b[0m\n\u001b[0m\u001b[1;32m   1757\u001b[0m             \u001b[0;31m# sets CurrentSwspecName and CurrentSwspecId\u001b[0m\u001b[0;34m\u001b[0m\u001b[0;34m\u001b[0m\u001b[0;34m\u001b[0m\u001b[0m\n\u001b[1;32m   1758\u001b[0m         \u001b[0;32massert\u001b[0m \u001b[0mCurrentSwspecName\u001b[0m \u001b[0;32mand\u001b[0m \u001b[0mCurrentSwspecId\u001b[0m\u001b[0;34m\u001b[0m\u001b[0;34m\u001b[0m\u001b[0m\n",
      "\u001b[0;32m~/work/project_git_repo/Python-Scripts-Deployment/assets/jupyterlab/lib/cpd_software_env.py\u001b[0m in \u001b[0;36m_build_and_cache_swspec\u001b[0;34m(wml_client, custom_sw_spec_name, copy)\u001b[0m\n\u001b[1;32m   1857\u001b[0m \u001b[0;34m\u001b[0m\u001b[0m\n\u001b[1;32m   1858\u001b[0m     (swspec_name, swspec_id) = _build_swspec_wml(\n\u001b[0;32m-> 1859\u001b[0;31m         \u001b[0mwml_client\u001b[0m\u001b[0;34m,\u001b[0m \u001b[0mcustom_sw_spec_name\u001b[0m\u001b[0;34m,\u001b[0m \u001b[0mcopy\u001b[0m\u001b[0;34m=\u001b[0m\u001b[0mcopy\u001b[0m\u001b[0;34m\u001b[0m\u001b[0;34m\u001b[0m\u001b[0m\n\u001b[0m\u001b[1;32m   1860\u001b[0m     )\n\u001b[1;32m   1861\u001b[0m \u001b[0;34m\u001b[0m\u001b[0m\n",
      "\u001b[0;32m~/work/project_git_repo/Python-Scripts-Deployment/assets/jupyterlab/lib/cpd_software_env.py\u001b[0m in \u001b[0;36m_build_swspec_wml\u001b[0;34m(wml_client, custom_sw_spec_name, copy)\u001b[0m\n\u001b[1;32m   1930\u001b[0m         \u001b[0;34m[\u001b[0m\u001b[0mautoinstall_sdist_file\u001b[0m\u001b[0;34m]\u001b[0m \u001b[0;34m+\u001b[0m \u001b[0mmodules_sdist_files\u001b[0m\u001b[0;34m,\u001b[0m\u001b[0;34m\u001b[0m\u001b[0;34m\u001b[0m\u001b[0m\n\u001b[1;32m   1931\u001b[0m         \u001b[0mcustom_name\u001b[0m\u001b[0;34m=\u001b[0m\u001b[0mswspec_name\u001b[0m\u001b[0;34m,\u001b[0m\u001b[0;34m\u001b[0m\u001b[0;34m\u001b[0m\u001b[0m\n\u001b[0;32m-> 1932\u001b[0;31m         \u001b[0mversion\u001b[0m\u001b[0;34m=\u001b[0m\u001b[0;34m\"replace\"\u001b[0m\u001b[0;34m,\u001b[0m  \u001b[0;31m# todo: implement \"patch\" option\u001b[0m\u001b[0;34m\u001b[0m\u001b[0;34m\u001b[0m\u001b[0m\n\u001b[0m\u001b[1;32m   1933\u001b[0m     )\n\u001b[1;32m   1934\u001b[0m     \u001b[0;32mreturn\u001b[0m \u001b[0;34m(\u001b[0m\u001b[0mswspec_name\u001b[0m\u001b[0;34m,\u001b[0m \u001b[0mswspec_id\u001b[0m\u001b[0;34m)\u001b[0m\u001b[0;34m\u001b[0m\u001b[0;34m\u001b[0m\u001b[0m\n",
      "\u001b[0;32m~/work/project_git_repo/Python-Scripts-Deployment/assets/jupyterlab/lib/cpd_software_env.py\u001b[0m in \u001b[0;36m_create_software_specification\u001b[0;34m(wml_client, base_spec_name, custom_files, custom_name, version)\u001b[0m\n\u001b[1;32m   2363\u001b[0m     \u001b[0mbase_id\u001b[0m \u001b[0;34m=\u001b[0m \u001b[0mwml_client\u001b[0m\u001b[0;34m.\u001b[0m\u001b[0msoftware_specifications\u001b[0m\u001b[0;34m.\u001b[0m\u001b[0mget_uid_by_name\u001b[0m\u001b[0;34m(\u001b[0m\u001b[0mbase_spec_name\u001b[0m\u001b[0;34m)\u001b[0m\u001b[0;34m\u001b[0m\u001b[0;34m\u001b[0m\u001b[0m\n\u001b[1;32m   2364\u001b[0m     \u001b[0;32massert\u001b[0m \u001b[0mbase_id\u001b[0m \u001b[0;32mis\u001b[0m \u001b[0;32mnot\u001b[0m \u001b[0;32mNone\u001b[0m\u001b[0;34m\u001b[0m\u001b[0;34m\u001b[0m\u001b[0m\n\u001b[0;32m-> 2365\u001b[0;31m     \u001b[0;32massert\u001b[0m \u001b[0mbase_id\u001b[0m \u001b[0;34m!=\u001b[0m \u001b[0;34m\"Not Found\"\u001b[0m\u001b[0;34m\u001b[0m\u001b[0;34m\u001b[0m\u001b[0m\n\u001b[0m\u001b[1;32m   2366\u001b[0m     \u001b[0;32massert\u001b[0m \u001b[0misinstance\u001b[0m\u001b[0;34m(\u001b[0m\u001b[0mcustom_files\u001b[0m\u001b[0;34m,\u001b[0m \u001b[0mlist\u001b[0m\u001b[0;34m)\u001b[0m\u001b[0;34m\u001b[0m\u001b[0;34m\u001b[0m\u001b[0m\n\u001b[1;32m   2367\u001b[0m \u001b[0;34m\u001b[0m\u001b[0m\n",
      "\u001b[0;31mAssertionError\u001b[0m: "
     ]
    }
   ],
   "source": [
    "script_asset = cpd_software_env.save_script_to_project(\"wml_batch_main.py\", name=\"test_batch_file\")"
   ]
  },
  {
   "cell_type": "code",
   "execution_count": null,
   "metadata": {},
   "outputs": [],
   "source": []
  }
 ],
 "metadata": {
  "kernelspec": {
   "display_name": "Python 3.7",
   "language": "python",
   "name": "python3"
  },
  "language_info": {
   "codemirror_mode": {
    "name": "ipython",
    "version": 3
   },
   "file_extension": ".py",
   "mimetype": "text/x-python",
   "name": "python",
   "nbconvert_exporter": "python",
   "pygments_lexer": "ipython3",
   "version": "3.7.9"
  }
 },
 "nbformat": 4,
 "nbformat_minor": 4
}
