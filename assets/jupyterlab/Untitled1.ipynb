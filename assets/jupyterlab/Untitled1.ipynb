{
 "cells": [
  {
   "cell_type": "code",
   "execution_count": 4,
   "metadata": {},
   "outputs": [
    {
     "name": "stdout",
     "output_type": "stream",
     "text": [
      "Overwriting my_batch_hello.py\n"
     ]
    }
   ],
   "source": [
    "%%writefile my_batch_hello.py\n",
    "\n",
    "def my_batch_main(*wml_args):\n",
    "    import os,logging\n",
    "    from datetime import datetime\n",
    "    \n",
    "    print(datetime.now().strftime(\"%H:%M:%S\"),\"my_batch_main started\")\n",
    "\n",
    "    in_data = wml_args['scoring']['input_data_references']\n",
    "    # out_data = wml_args['scoring']['output_data_reference']\n",
    "    # input and output data references not used in this example\n",
    "    #logging.info(\"input/output data ignored\")\n",
    "        \n",
    "    print(wml_args)\n",
    "\n",
    "    print(datetime.now().strftime(\"%H:%M:%S\"),\"my_batch_main done\")"
   ]
  },
  {
   "cell_type": "code",
   "execution_count": 11,
   "metadata": {},
   "outputs": [
    {
     "name": "stdout",
     "output_type": "stream",
     "text": [
      "Overwriting batch_hello_env.yaml\n"
     ]
    }
   ],
   "source": [
    "%%writefile batch_hello_env.yaml\n",
    "\n",
    "name: batch_hello\n",
    "\n",
    "base: default_py3.7\n",
    "    \n",
    "file:\n",
    "    - my_batch_hello.py"
   ]
  },
  {
   "cell_type": "code",
   "execution_count": 6,
   "metadata": {},
   "outputs": [],
   "source": [
    "from lib import cpd_software_env"
   ]
  },
  {
   "cell_type": "code",
   "execution_count": 7,
   "metadata": {},
   "outputs": [
    {
     "name": "stdout",
     "output_type": "stream",
     "text": [
      "Error: Software Env is already initialized.\n"
     ]
    }
   ],
   "source": [
    "cpd_software_env.setup(\"batch_hello_env.yaml\")"
   ]
  },
  {
   "cell_type": "code",
   "execution_count": 5,
   "metadata": {},
   "outputs": [
    {
     "name": "stdout",
     "output_type": "stream",
     "text": [
      "21:00:21 my_batch_main started\n"
     ]
    },
    {
     "ename": "TypeError",
     "evalue": "list indices must be integers or slices, not str",
     "output_type": "error",
     "traceback": [
      "\u001b[0;31m---------------------------------------------------------------------------\u001b[0m",
      "\u001b[0;31mTypeError\u001b[0m                                 Traceback (most recent call last)",
      "\u001b[0;32m<ipython-input-5-dbf6e28722f0>\u001b[0m in \u001b[0;36m<module>\u001b[0;34m\u001b[0m\n\u001b[1;32m      2\u001b[0m \u001b[0;34m\u001b[0m\u001b[0m\n\u001b[1;32m      3\u001b[0m \u001b[0;31m# test batch locally\u001b[0m\u001b[0;34m\u001b[0m\u001b[0;34m\u001b[0m\u001b[0;34m\u001b[0m\u001b[0m\n\u001b[0;32m----> 4\u001b[0;31m \u001b[0mmy_batch_hello\u001b[0m\u001b[0;34m.\u001b[0m\u001b[0mmy_batch_main\u001b[0m\u001b[0;34m(\u001b[0m\u001b[0;34m[\u001b[0m\u001b[0;34m]\u001b[0m\u001b[0;34m)\u001b[0m\u001b[0;34m\u001b[0m\u001b[0;34m\u001b[0m\u001b[0m\n\u001b[0m",
      "\u001b[0;32m~/work/project_git_repo/Python-Scripts-Deployment/assets/jupyterlab/my_batch_hello.py\u001b[0m in \u001b[0;36mmy_batch_main\u001b[0;34m(wml_args)\u001b[0m\n\u001b[1;32m      6\u001b[0m     \u001b[0mprint\u001b[0m\u001b[0;34m(\u001b[0m\u001b[0mdatetime\u001b[0m\u001b[0;34m.\u001b[0m\u001b[0mnow\u001b[0m\u001b[0;34m(\u001b[0m\u001b[0;34m)\u001b[0m\u001b[0;34m.\u001b[0m\u001b[0mstrftime\u001b[0m\u001b[0;34m(\u001b[0m\u001b[0;34m\"%H:%M:%S\"\u001b[0m\u001b[0;34m)\u001b[0m\u001b[0;34m,\u001b[0m\u001b[0;34m\"my_batch_main started\"\u001b[0m\u001b[0;34m)\u001b[0m\u001b[0;34m\u001b[0m\u001b[0;34m\u001b[0m\u001b[0m\n\u001b[1;32m      7\u001b[0m \u001b[0;34m\u001b[0m\u001b[0m\n\u001b[0;32m----> 8\u001b[0;31m     \u001b[0min_data\u001b[0m \u001b[0;34m=\u001b[0m \u001b[0mwml_args\u001b[0m\u001b[0;34m[\u001b[0m\u001b[0;34m'scoring'\u001b[0m\u001b[0;34m]\u001b[0m\u001b[0;34m[\u001b[0m\u001b[0;34m'input_data_references'\u001b[0m\u001b[0;34m]\u001b[0m\u001b[0;34m\u001b[0m\u001b[0;34m\u001b[0m\u001b[0m\n\u001b[0m\u001b[1;32m      9\u001b[0m     \u001b[0;31m# out_data = wml_args['scoring']['output_data_reference']\u001b[0m\u001b[0;34m\u001b[0m\u001b[0;34m\u001b[0m\u001b[0;34m\u001b[0m\u001b[0m\n\u001b[1;32m     10\u001b[0m     \u001b[0;31m# input and output data references not used in this example\u001b[0m\u001b[0;34m\u001b[0m\u001b[0;34m\u001b[0m\u001b[0;34m\u001b[0m\u001b[0m\n",
      "\u001b[0;31mTypeError\u001b[0m: list indices must be integers or slices, not str"
     ]
    }
   ],
   "source": [
    "import my_batch_hello\n",
    "\n",
    "# test batch locally\n",
    "my_batch_hello.my_batch_main([])"
   ]
  },
  {
   "cell_type": "code",
   "execution_count": 6,
   "metadata": {},
   "outputs": [
    {
     "name": "stdout",
     "output_type": "stream",
     "text": [
      "Replace def gencode_scoring_deploy_batch by gencode_deployable_script!\n"
     ]
    },
    {
     "data": {
      "text/plain": [
       "'wml_batch_main.py'"
      ]
     },
     "execution_count": 6,
     "metadata": {},
     "output_type": "execute_result"
    }
   ],
   "source": [
    "cpd_software_env.gencode_scoring_deploy_batch(my_batch_hello.my_batch_main,\"wml_batch_main.py\")\n"
   ]
  },
  {
   "cell_type": "code",
   "execution_count": 7,
   "metadata": {},
   "outputs": [
    {
     "name": "stdout",
     "output_type": "stream",
     "text": [
      "WML service in CP4D 3.5\n",
      "WML client lib 1.0.34 in Python 3.7\n",
      "autoinstall:_create_autoinstall_sdist_manifest(...,/tmp/MyDistPkg, copy={'files'})\n",
      "swspec 'batch_hello Aug09 20:43' = default_py3.7 + cpd_software_env-0.1.zip\n",
      "Creating package extensions\n",
      "SUCCESS\n",
      "SUCCESS\n",
      "deleting old script  test_batch_file 48da6df6-e29e-4c3f-a46b-76ecf5ecd0c2\n",
      "Creating Script asset...\n",
      "SUCCESS\n",
      "created script  test_batch_file 14839601-d244-44b5-95e5-a4189b355b77\n",
      "Script 'test_batch_file' saved to project\n"
     ]
    }
   ],
   "source": [
    "script_asset = cpd_software_env.save_script_to_project(\"wml_batch_main.py\", name=\"test_batch_file\")"
   ]
  },
  {
   "cell_type": "code",
   "execution_count": 15,
   "metadata": {},
   "outputs": [],
   "source": [
    "def my_batch_main(wml_args):\n",
    "    import os,logging\n",
    "    from datetime import datetime\n",
    "    \n",
    "    print(datetime.now().strftime(\"%H:%M:%S\"),\"my_batch_main started\")\n",
    "\n",
    "    in_data = wml_args['scoring']['input_data_references']\n",
    "    # out_data = wml_args['scoring']['output_data_reference']\n",
    "    # input and output data references not used in this example\n",
    "    #logging.info(\"input/output data ignored\")\n",
    "        \n",
    "    print(in_data)\n",
    "\n",
    "    print(datetime.now().strftime(\"%H:%M:%S\"),\"my_batch_main done\")"
   ]
  },
  {
   "cell_type": "code",
   "execution_count": 16,
   "metadata": {},
   "outputs": [
    {
     "name": "stdout",
     "output_type": "stream",
     "text": [
      "21:02:40 my_batch_main started\n",
      "[{'connection': {}, 'location': {'href': '/v2/assets/3bf6ebc7-5ab9-4b90-bbba-e0801ece3ca6?space_id=27f3466c-e5b6-4e88-bd72-6d6570f6d255'}, 'type': 'data_asset'}]\n",
      "21:02:40 my_batch_main done\n"
     ]
    }
   ],
   "source": [
    "my_batch_main(wml_args)"
   ]
  },
  {
   "cell_type": "code",
   "execution_count": 13,
   "metadata": {},
   "outputs": [],
   "source": [
    "wml_args = {\n",
    "  \"deployment\": {\n",
    "    \"id\": \"08714bc9-fedb-4398-a673-d849a64fb206\"\n",
    "  },\n",
    "  \"hardware_spec\": {\n",
    "    \"id\": \"f3ebac7d-0a75-410c-8b48-a931428cc4c5\"\n",
    "  },\n",
    "  \"platform_job\": {\n",
    "    \"job_id\": \"be49fa18-23f2-449a-933c-f655ddc7f154\",\n",
    "    \"run_id\": \"b24b2ee2-5e70-4620-9205-fb1fd6c0489f\"\n",
    "  },\n",
    "  \"scoring\": {\n",
    "    \"input_data_references\": [\n",
    "      {\n",
    "        \"connection\": {},\n",
    "        \"location\": {\n",
    "          \"href\": \"/v2/assets/3bf6ebc7-5ab9-4b90-bbba-e0801ece3ca6?space_id=27f3466c-e5b6-4e88-bd72-6d6570f6d255\"\n",
    "        },\n",
    "        \"type\": \"data_asset\"\n",
    "      }\n",
    "    ],\n",
    "    \"output_data_reference\": {\n",
    "      \"connection\": {},\n",
    "      \"location\": {\n",
    "        \"description\": \"\",\n",
    "        \"href\": \"/v2/assets/59b403ee-b8c7-4822-9eda-7b28fce7981d?space_id=27f3466c-e5b6-4e88-bd72-6d6570f6d255\",\n",
    "        \"name\": \"test_output.csv\"\n",
    "      },\n",
    "      \"type\": \"data_asset\"\n",
    "    },\n",
    "    \"status\": {\n",
    "      \"completed_at\": \"2021-08-09T20:47:16.462889Z\",\n",
    "      \"running_at\": \"2021-08-09T20:47:15.444831Z\",\n",
    "      \"state\": \"completed\"\n",
    "    }\n",
    "  }\n",
    "}"
   ]
  },
  {
   "cell_type": "code",
   "execution_count": null,
   "metadata": {},
   "outputs": [],
   "source": []
  }
 ],
 "metadata": {
  "kernelspec": {
   "display_name": "Python 3.7",
   "language": "python",
   "name": "python3"
  },
  "language_info": {
   "codemirror_mode": {
    "name": "ipython",
    "version": 3
   },
   "file_extension": ".py",
   "mimetype": "text/x-python",
   "name": "python",
   "nbconvert_exporter": "python",
   "pygments_lexer": "ipython3",
   "version": "3.7.9"
  }
 },
 "nbformat": 4,
 "nbformat_minor": 4
}
