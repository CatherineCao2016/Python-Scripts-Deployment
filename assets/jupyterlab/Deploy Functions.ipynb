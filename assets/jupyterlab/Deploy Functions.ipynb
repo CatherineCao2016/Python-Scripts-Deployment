{
 "cells": [
  {
   "cell_type": "code",
   "execution_count": 1,
   "metadata": {},
   "outputs": [],
   "source": [
    "def score(payload):\n",
    "        try:\n",
    "            # Import required modules.\n",
    "            from bs4 import BeautifulSoup\n",
    "            from urllib.request import urlopen\n",
    "            from sklearn.feature_extraction.text import CountVectorizer\n",
    "\n",
    "            urls = payload['input_data'][0]['values']\n",
    "            final_texts = []   # An array that will have stripped clean text from html tag enclosed text.\n",
    "\n",
    "            for url in urls:            \n",
    "                html = urlopen(url)\n",
    "                soup = BeautifulSoup(html, 'lxml')\n",
    "\n",
    "                p_tags = soup.find_all('p')    # Text is enclosed in <p> tag.\n",
    "\n",
    "                for p in p_tags:\n",
    "                    str_p = str(p)\n",
    "                    text = BeautifulSoup(str_p, 'lxml').get_text()\n",
    "                    final_texts.append(text)\n",
    "\n",
    "            vectorizer = CountVectorizer()\n",
    "            vectorizer.fit_transform(final_texts)\n",
    "\n",
    "            return {\"predictions\": [{\"fields\": [\"tokens\"], \"values\": [vectorizer.get_feature_names()]}]}\n",
    "        except Exception as e:\n",
    "            return {\"predictions\": [{\"error\" : repr(e)}]}"
   ]
  },
  {
   "cell_type": "code",
   "execution_count": null,
   "metadata": {},
   "outputs": [],
   "source": []
  }
 ],
 "metadata": {
  "kernelspec": {
   "display_name": "Python 3.7",
   "language": "python",
   "name": "python3"
  },
  "language_info": {
   "codemirror_mode": {
    "name": "ipython",
    "version": 3
   },
   "file_extension": ".py",
   "mimetype": "text/x-python",
   "name": "python",
   "nbconvert_exporter": "python",
   "pygments_lexer": "ipython3",
   "version": "3.7.9"
  }
 },
 "nbformat": 4,
 "nbformat_minor": 4
}
